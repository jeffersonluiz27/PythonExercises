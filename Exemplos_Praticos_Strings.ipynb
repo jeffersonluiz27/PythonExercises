{
 "cells": [
  {
   "cell_type": "markdown",
   "id": "9de01325",
   "metadata": {},
   "source": [
    "# Exemplos Práticos\n",
    "\n",
    "### Strings\n",
    "\n",
    "##### Concatenação de Strings"
   ]
  },
  {
   "cell_type": "code",
   "execution_count": 4,
   "id": "59a52475",
   "metadata": {},
   "outputs": [
    {
     "name": "stdout",
     "output_type": "stream",
     "text": [
      "testando\n",
      "apostilapython\n",
      "ProgramaçãoPython\n"
     ]
    }
   ],
   "source": [
    "print(\"testando\")\n",
    "print(\"apostila\"+\"python\")\n",
    "a='Programação'\n",
    "b='Python'\n",
    "c=a+b\n",
    "print(c)"
   ]
  },
  {
   "cell_type": "markdown",
   "id": "0c84e8ff",
   "metadata": {},
   "source": [
    "##### Manipulação de Strings"
   ]
  },
  {
   "cell_type": "code",
   "execution_count": 42,
   "id": "5bbab51d",
   "metadata": {},
   "outputs": [
    {
     "name": "stdout",
     "output_type": "stream",
     "text": [
      "paralelepipedo\n"
     ]
    }
   ],
   "source": [
    "word = 'paralelepipedo'\n",
    "print(word)"
   ]
  },
  {
   "cell_type": "code",
   "execution_count": 43,
   "id": "0416b0fd",
   "metadata": {},
   "outputs": [
    {
     "data": {
      "text/plain": [
       "14"
      ]
     },
     "execution_count": 43,
     "metadata": {},
     "output_type": "execute_result"
    }
   ],
   "source": [
    "# LEN = Retorna o tamanho da string\n",
    "len(word)"
   ]
  },
  {
   "cell_type": "code",
   "execution_count": 44,
   "id": "354ad9e4",
   "metadata": {},
   "outputs": [
    {
     "data": {
      "text/plain": [
       "'Paralelepipedo'"
      ]
     },
     "execution_count": 44,
     "metadata": {},
     "output_type": "execute_result"
    }
   ],
   "source": [
    "# CAPITALIZE = Retorna a string com a primeira letra maiúscula\n",
    "word.capitalize()"
   ]
  },
  {
   "cell_type": "code",
   "execution_count": 45,
   "id": "dc2e154a",
   "metadata": {},
   "outputs": [
    {
     "data": {
      "text/plain": [
       "3"
      ]
     },
     "execution_count": 45,
     "metadata": {},
     "output_type": "execute_result"
    }
   ],
   "source": [
    "# COUNT = Informa quantas vezes um caracter ou sequencia aparece na string\n",
    "word.count(\"p\")"
   ]
  },
  {
   "cell_type": "code",
   "execution_count": 46,
   "id": "25ab12f1",
   "metadata": {},
   "outputs": [
    {
     "data": {
      "text/plain": [
       "True"
      ]
     },
     "execution_count": 46,
     "metadata": {},
     "output_type": "execute_result"
    }
   ],
   "source": [
    "# STARTSWITH = Verifica se uma string inicia com uma determinada sequência\n",
    "word.startswith(\"par\")"
   ]
  },
  {
   "cell_type": "code",
   "execution_count": 47,
   "id": "4d4bf811",
   "metadata": {},
   "outputs": [
    {
     "data": {
      "text/plain": [
       "False"
      ]
     },
     "execution_count": 47,
     "metadata": {},
     "output_type": "execute_result"
    }
   ],
   "source": [
    "# ENDSWITH = Verifica se uma string termina com uma determinada sequência\n",
    "word.endswith(\"par\")"
   ]
  },
  {
   "cell_type": "code",
   "execution_count": 48,
   "id": "ba7b9f78",
   "metadata": {},
   "outputs": [
    {
     "data": {
      "text/plain": [
       "True"
      ]
     },
     "execution_count": 48,
     "metadata": {},
     "output_type": "execute_result"
    }
   ],
   "source": [
    "# ISALPHA = Verifica se a string possui apenas conteúdo alfabético\n",
    "word.isalpha()"
   ]
  },
  {
   "cell_type": "code",
   "execution_count": 49,
   "id": "613457d8",
   "metadata": {},
   "outputs": [
    {
     "data": {
      "text/plain": [
       "True"
      ]
     },
     "execution_count": 49,
     "metadata": {},
     "output_type": "execute_result"
    }
   ],
   "source": [
    "# ISALNUM = Verifica se a string possui algum conteúdo alfanumérico\n",
    "word.isalnum()"
   ]
  },
  {
   "cell_type": "code",
   "execution_count": 50,
   "id": "2de93577",
   "metadata": {},
   "outputs": [
    {
     "data": {
      "text/plain": [
       "True"
      ]
     },
     "execution_count": 50,
     "metadata": {},
     "output_type": "execute_result"
    }
   ],
   "source": [
    "# ISLOWER = Verifica se todas as letras de uma string são minúsculas\n",
    "word.islower()"
   ]
  },
  {
   "cell_type": "code",
   "execution_count": 51,
   "id": "16465a3b",
   "metadata": {},
   "outputs": [
    {
     "data": {
      "text/plain": [
       "False"
      ]
     },
     "execution_count": 51,
     "metadata": {},
     "output_type": "execute_result"
    }
   ],
   "source": [
    "# ISUPPER = Verifica se todas as letras de uma string são maiúsculas.\n",
    "word.isupper()"
   ]
  },
  {
   "cell_type": "code",
   "execution_count": 52,
   "id": "88dbac24",
   "metadata": {},
   "outputs": [
    {
     "data": {
      "text/plain": [
       "'paralelepipedo'"
      ]
     },
     "execution_count": 52,
     "metadata": {},
     "output_type": "execute_result"
    }
   ],
   "source": [
    "# LOWER = Retorna uma cópia da string trocando todas as letras para minúsculo.\n",
    "maius.lower()"
   ]
  },
  {
   "cell_type": "code",
   "execution_count": 53,
   "id": "5da271ae",
   "metadata": {},
   "outputs": [
    {
     "data": {
      "text/plain": [
       "'PARALELEPIPEDO'"
      ]
     },
     "execution_count": 53,
     "metadata": {},
     "output_type": "execute_result"
    }
   ],
   "source": [
    "# UPPER = Retorna uma cópia da string trocando todas as letras para maiúsculo.\n",
    "word.upper()"
   ]
  },
  {
   "cell_type": "code",
   "execution_count": 56,
   "id": "2205c3bf",
   "metadata": {},
   "outputs": [
    {
     "name": "stdout",
     "output_type": "stream",
     "text": [
      "com Python agora\n"
     ]
    },
    {
     "data": {
      "text/plain": [
       "'COM pYTHON AGORA'"
      ]
     },
     "execution_count": 56,
     "metadata": {},
     "output_type": "execute_result"
    }
   ],
   "source": [
    "# SWAPCASE = Inverte o conteúdo da string (Minúsculo / Maiúsculo).\n",
    "frase1 = 'com Python agora'\n",
    "print(frase1)\n",
    "frase1.swapcase()"
   ]
  },
  {
   "cell_type": "code",
   "execution_count": 57,
   "id": "81b06142",
   "metadata": {},
   "outputs": [
    {
     "data": {
      "text/plain": [
       "'Com Python Agora'"
      ]
     },
     "execution_count": 57,
     "metadata": {},
     "output_type": "execute_result"
    }
   ],
   "source": [
    "# TITLE = Converte para maiúsculo todas as primeiras letras de cada palavra da string.\n",
    "frase1.title()"
   ]
  },
  {
   "cell_type": "code",
   "execution_count": 58,
   "id": "4e024982",
   "metadata": {},
   "outputs": [
    {
     "data": {
      "text/plain": [
       "['com', 'Python', 'agora']"
      ]
     },
     "execution_count": 58,
     "metadata": {},
     "output_type": "execute_result"
    }
   ],
   "source": [
    "# SPLIT = Transforma a string em uma lista, utilizando os espaços como referência\n",
    "frase1.split()"
   ]
  },
  {
   "cell_type": "code",
   "execution_count": 59,
   "id": "ed86d5fb",
   "metadata": {},
   "outputs": [
    {
     "data": {
      "text/plain": [
       "'programando Python agora'"
      ]
     },
     "execution_count": 59,
     "metadata": {},
     "output_type": "execute_result"
    }
   ],
   "source": [
    "# REPLACE = Substitui na string o trecho S1 pelo trecho S2\n",
    "frase1.replace(\"com\", \"programando\")"
   ]
  },
  {
   "cell_type": "code",
   "execution_count": 61,
   "id": "6c7352d3",
   "metadata": {},
   "outputs": [
    {
     "data": {
      "text/plain": [
       "-1"
      ]
     },
     "execution_count": 61,
     "metadata": {},
     "output_type": "execute_result"
    }
   ],
   "source": [
    "# FIND = Retorna o índice da primeira ocorrência de um determinado caractere na string. \n",
    "# Se o caractere não estiver na string retorna -1\n",
    "frase1.find(\"p\")"
   ]
  },
  {
   "cell_type": "code",
   "execution_count": 62,
   "id": "b7f442a4",
   "metadata": {},
   "outputs": [
    {
     "name": "stdout",
     "output_type": "stream",
     "text": [
      "  command and conquer   \n"
     ]
    }
   ],
   "source": [
    "frase2 = '  command and conquer   '\n",
    "print(frase2)"
   ]
  },
  {
   "cell_type": "code",
   "execution_count": 63,
   "id": "1e75856d",
   "metadata": {},
   "outputs": [
    {
     "data": {
      "text/plain": [
       "'command and conquer   '"
      ]
     },
     "execution_count": 63,
     "metadata": {},
     "output_type": "execute_result"
    }
   ],
   "source": [
    "# LSTRIP = Remove todos os espaços em branco do lado esquerdo da string\n",
    "frase2.lstrip()"
   ]
  },
  {
   "cell_type": "code",
   "execution_count": 64,
   "id": "e4a7e361",
   "metadata": {},
   "outputs": [
    {
     "data": {
      "text/plain": [
       "'  command and conquer'"
      ]
     },
     "execution_count": 64,
     "metadata": {},
     "output_type": "execute_result"
    }
   ],
   "source": [
    "# RSTRIP = Remove todos os espaços em branco do lado direito da string\n",
    "frase2.rstrip()"
   ]
  },
  {
   "cell_type": "code",
   "execution_count": 65,
   "id": "99a49c6d",
   "metadata": {},
   "outputs": [
    {
     "data": {
      "text/plain": [
       "'command and conquer'"
      ]
     },
     "execution_count": 65,
     "metadata": {},
     "output_type": "execute_result"
    }
   ],
   "source": [
    "# STRIP = Remove todos os espaços em branco da string\n",
    "frase2.strip()"
   ]
  },
  {
   "cell_type": "markdown",
   "id": "2350e655",
   "metadata": {},
   "source": [
    "##### Fatiamento de Strings"
   ]
  },
  {
   "cell_type": "code",
   "execution_count": 67,
   "id": "9276fd23",
   "metadata": {},
   "outputs": [
    {
     "data": {
      "text/plain": [
       "'yth'"
      ]
     },
     "execution_count": 67,
     "metadata": {},
     "output_type": "execute_result"
    }
   ],
   "source": [
    "s = \"Python\"\n",
    "s[1:4] # seleciona os elementos das posições 1,2,3"
   ]
  }
 ],
 "metadata": {
  "kernelspec": {
   "display_name": "Python 3",
   "language": "python",
   "name": "python3"
  },
  "language_info": {
   "codemirror_mode": {
    "name": "ipython",
    "version": 3
   },
   "file_extension": ".py",
   "mimetype": "text/x-python",
   "name": "python",
   "nbconvert_exporter": "python",
   "pygments_lexer": "ipython3",
   "version": "3.7.6"
  }
 },
 "nbformat": 4,
 "nbformat_minor": 5
}
