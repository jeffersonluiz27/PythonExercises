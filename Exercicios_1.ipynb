{
 "cells": [
  {
   "cell_type": "markdown",
   "id": "489cd2fd",
   "metadata": {},
   "source": [
    "# Exercícios \n",
    "\n",
    "### Strings \n",
    "\n",
    "1 - Considere a string = \"Um elefante incomoda muita gente\". Selecione fatia que corresponde a \"elefante incomoda\""
   ]
  },
  {
   "cell_type": "code",
   "execution_count": 1,
   "id": "dae86ff1",
   "metadata": {},
   "outputs": [
    {
     "data": {
      "text/plain": [
       "'elefante incomoda'"
      ]
     },
     "execution_count": 1,
     "metadata": {},
     "output_type": "execute_result"
    }
   ],
   "source": [
    "frase = \"Um elefante incomoda muita gente\"\n",
    "frase[3:20]"
   ]
  },
  {
   "cell_type": "markdown",
   "id": "638e6c28",
   "metadata": {},
   "source": [
    "2 - Escreva um programa que solicite uma frase ao usuário e escreva a frase toda em mai úscula e sem espaços em branco."
   ]
  },
  {
   "cell_type": "code",
   "execution_count": 2,
   "id": "457ca527",
   "metadata": {},
   "outputs": [
    {
     "name": "stdout",
     "output_type": "stream",
     "text": [
      "Escreva uma frase! uma frase\n"
     ]
    },
    {
     "data": {
      "text/plain": [
       "'UMAFRASE'"
      ]
     },
     "execution_count": 2,
     "metadata": {},
     "output_type": "execute_result"
    }
   ],
   "source": [
    "entrada = input(\"Escreva uma frase! \")\n",
    "rep = entrada.upper()\n",
    "rep.replace(\" \",\"\")"
   ]
  },
  {
   "cell_type": "markdown",
   "id": "7b0a55c0",
   "metadata": {},
   "source": [
    "### Números \n",
    "\n",
    "1 - Escreva um programa que r eceba 2 valores do tipo inteiro x e y, e calcule o valor de z:\n",
    "z = (𝑥2+ 𝑦2)/(𝑥−𝑦)2"
   ]
  },
  {
   "cell_type": "code",
   "execution_count": 3,
   "id": "09d9a3e9",
   "metadata": {},
   "outputs": [
    {
     "name": "stdout",
     "output_type": "stream",
     "text": [
      "Calcule o valor da função Z\n",
      "Digite o valor de X: 1\n",
      "Digite o valor de Y: 3\n",
      "2.5\n"
     ]
    }
   ],
   "source": [
    "print(\"Calcule o valor da função Z\")\n",
    "\n",
    "x = int(input(\"Digite o valor de X: \"))\n",
    "y = int(input(\"Digite o valor de Y: \"))\n",
    "\n",
    "z = (x**2 + y**2) / ((x - y)**2)\n",
    "\n",
    "print(z)"
   ]
  },
  {
   "cell_type": "code",
   "execution_count": null,
   "id": "a3a6e6cb",
   "metadata": {},
   "outputs": [],
   "source": [
    "2 - Escreva um programa que receba o salário de um funcionário (float), e retorne o resultado do\n",
    "novo salário com reajuste de 35%."
   ]
  },
  {
   "cell_type": "code",
   "execution_count": 5,
   "id": "1b8c8462",
   "metadata": {},
   "outputs": [
    {
     "name": "stdout",
     "output_type": "stream",
     "text": [
      "Calcule o valor do reajuste do salario do funcionario: \n",
      "\n",
      "Insira o valor com ponto para separar decimais: 358.5\n",
      "O novo salario com reajuste de 35% é de R$483.98 reais\n"
     ]
    }
   ],
   "source": [
    "print(\"Calcule o valor do reajuste do salario do funcionario: \\n\")\n",
    "salario = float(input(\"Insira o valor com ponto para separar decimais: \"))\n",
    "reajuste = salario + (salario * (35/100))\n",
    "print(\"O novo salario com reajuste de 35%% é de R$%.2f reais\" % reajuste)"
   ]
  },
  {
   "cell_type": "markdown",
   "id": "eee8b3d9",
   "metadata": {},
   "source": [
    "### Listas\n",
    "\n",
    "1 - Dada a lista = [5, 7, 2, 9, 4, 1, 3] escreva um programa que imprima as seguintes informações:\n",
    "a) tamanho da lista.\n",
    "b) maior valor da lista.\n",
    "c) menor valor da lista.\n",
    "d) soma de todos os elementos da lista.\n",
    "e) lista em ordem crescente\n",
    "f) lista em ordem decrescente."
   ]
  },
  {
   "cell_type": "code",
   "execution_count": 9,
   "id": "bfd24349",
   "metadata": {},
   "outputs": [
    {
     "name": "stdout",
     "output_type": "stream",
     "text": [
      "[5, 7, 2, 9, 4, 1, 3]\n"
     ]
    }
   ],
   "source": [
    "lista = [5, 7, 2, 9, 4, 1, 3]\n",
    "print(lista)"
   ]
  },
  {
   "cell_type": "code",
   "execution_count": 10,
   "id": "9ee99b66",
   "metadata": {},
   "outputs": [
    {
     "data": {
      "text/plain": [
       "7"
      ]
     },
     "execution_count": 10,
     "metadata": {},
     "output_type": "execute_result"
    }
   ],
   "source": [
    "# Tamanho da lista\n",
    "len(lista)"
   ]
  },
  {
   "cell_type": "code",
   "execution_count": 11,
   "id": "d510e211",
   "metadata": {},
   "outputs": [
    {
     "data": {
      "text/plain": [
       "9"
      ]
     },
     "execution_count": 11,
     "metadata": {},
     "output_type": "execute_result"
    }
   ],
   "source": [
    "# Maior valor da lista\n",
    "max(lista)"
   ]
  },
  {
   "cell_type": "code",
   "execution_count": 12,
   "id": "461f8ed8",
   "metadata": {},
   "outputs": [
    {
     "data": {
      "text/plain": [
       "1"
      ]
     },
     "execution_count": 12,
     "metadata": {},
     "output_type": "execute_result"
    }
   ],
   "source": [
    "# Menor valor da lista\n",
    "min(lista)"
   ]
  },
  {
   "cell_type": "code",
   "execution_count": 13,
   "id": "1ee1d362",
   "metadata": {},
   "outputs": [
    {
     "data": {
      "text/plain": [
       "31"
      ]
     },
     "execution_count": 13,
     "metadata": {},
     "output_type": "execute_result"
    }
   ],
   "source": [
    "# Soma de todos os elementos da lista\n",
    "sum(lista)"
   ]
  },
  {
   "cell_type": "code",
   "execution_count": 14,
   "id": "300f0c1b",
   "metadata": {},
   "outputs": [
    {
     "name": "stdout",
     "output_type": "stream",
     "text": [
      "[1, 2, 3, 4, 5, 7, 9]\n",
      "[9, 7, 5, 4, 3, 2, 1]\n"
     ]
    }
   ],
   "source": [
    "# Lista em ordem crescente\n",
    "lista.sort()\n",
    "print(lista)\n",
    "\n",
    "# Lista em ordem decrescente\n",
    "lista.reverse()\n",
    "print(lista)"
   ]
  },
  {
   "cell_type": "markdown",
   "id": "3a25e17c",
   "metadata": {},
   "source": [
    "2 - Gere uma lista de contendo os múltiplos de 3 entre 1 e 50"
   ]
  },
  {
   "cell_type": "code",
   "execution_count": 15,
   "id": "e00c7e3b",
   "metadata": {},
   "outputs": [
    {
     "name": "stdout",
     "output_type": "stream",
     "text": [
      "[0, 3, 6, 9, 12, 15, 18, 21, 24, 27, 30, 33, 36, 39, 42, 45, 48]\n"
     ]
    }
   ],
   "source": [
    "L1 = list(range(0,50,3))\n",
    "print(L1)"
   ]
  },
  {
   "cell_type": "markdown",
   "id": "acb0b119",
   "metadata": {},
   "source": [
    "### Dicionários \n",
    "\n",
    "1 - Dada a tabela a seguir, crie um dicionário que a represente:\n",
    "\n",
    "      Lanchonete\n",
    "Produtos       Preços R$\n",
    "Salgado        R$ 4.50\n",
    "Lanche         R$ 6.50\n",
    "Suco           R$ 3.00\n",
    "Refrigerante   R$ 3.50\n",
    "Doce           R$ 1.00"
   ]
  },
  {
   "cell_type": "code",
   "execution_count": 25,
   "id": "27c9f86f",
   "metadata": {},
   "outputs": [
    {
     "name": "stdout",
     "output_type": "stream",
     "text": [
      "{'Salgado': 4.5, 'Lanche': 6.5, 'Suco': 3.0, 'Refrigerante': 3.5, 'Doce': 1.0}\n"
     ]
    }
   ],
   "source": [
    "Lanchonete = {\n",
    "    \"Salgado\": 4.50,\n",
    "    \"Lanche\": 6.50,\n",
    "    \"Suco\": 3.00,\n",
    "    \"Refrigerante\": 3.50,\n",
    "    \"Doce\": 1.00\n",
    "    }\n",
    "\n",
    "print(Lanchonete)"
   ]
  },
  {
   "cell_type": "markdown",
   "id": "566a4533",
   "metadata": {},
   "source": [
    "2- Considere um dicionário com 5 nomes de alunos e suas notas. Escreva um programa que calcule a média dessas notas."
   ]
  },
  {
   "cell_type": "code",
   "execution_count": 26,
   "id": "a1e36040",
   "metadata": {},
   "outputs": [
    {
     "name": "stdout",
     "output_type": "stream",
     "text": [
      "{'João': 5.0, 'Lucas': 7.0, 'Vitor': 8.5, 'Luana': 4.5, 'Luiza': 9.0}\n"
     ]
    }
   ],
   "source": [
    "Boletim = {\n",
    "    \"João\": 5.0,\n",
    "    \"Lucas\": 7.0,\n",
    "    \"Vitor\": 8.5,\n",
    "    \"Luana\": 4.5,\n",
    "    \"Luiza\": 9.0\n",
    "    }\n",
    "print(Boletim)"
   ]
  },
  {
   "cell_type": "code",
   "execution_count": 27,
   "id": "62d2a478",
   "metadata": {},
   "outputs": [
    {
     "name": "stdout",
     "output_type": "stream",
     "text": [
      "6.8\n"
     ]
    }
   ],
   "source": [
    "# Caucular a media\n",
    "Media = sum(Boletim.values()) / len(Boletim)\n",
    "print(Media)"
   ]
  },
  {
   "cell_type": "code",
   "execution_count": 29,
   "id": "33a3d000",
   "metadata": {},
   "outputs": [
    {
     "name": "stdout",
     "output_type": "stream",
     "text": [
      "{'João': 5.0, 'Lucas': 7.0, 'Vitor': 8.5, 'Luana': 4.5, 'Luiza': 9.0, 'Antonio': 8.0}\n"
     ]
    }
   ],
   "source": [
    "# Adicionar novo aluno\n",
    "Boletim[\"Antonio\"] = 8.0\n",
    "print(Boletim)"
   ]
  },
  {
   "cell_type": "code",
   "execution_count": 30,
   "id": "860f6e88",
   "metadata": {},
   "outputs": [
    {
     "name": "stdout",
     "output_type": "stream",
     "text": [
      "7.0\n"
     ]
    }
   ],
   "source": [
    "# Recalcular\n",
    "Media = sum(Boletim.values()) / len(Boletim)\n",
    "print(Media)"
   ]
  },
  {
   "cell_type": "markdown",
   "id": "771f233d",
   "metadata": {},
   "source": [
    "3 - Criar um carrinho de compras e calcular o total dos produtos"
   ]
  },
  {
   "cell_type": "code",
   "execution_count": 51,
   "id": "a5c1339d",
   "metadata": {},
   "outputs": [
    {
     "name": "stdout",
     "output_type": "stream",
     "text": [
      " Item 1 = Abacate : R$ 1.99\n",
      " Item 2 = Manga : R$ 2.29\n",
      " Item 3 = Coco : R$ 5.25\n",
      "Total do carrinho = R$ 9.53\n"
     ]
    }
   ],
   "source": [
    "Feira = {}\n",
    "\n",
    "Feira[\"Abacate\"] = 1.99\n",
    "Feira[\"Manga\"] = 2.29\n",
    "Feira[\"Coco\"] = 5.25\n",
    "i=0\n",
    "for x in Feira:\n",
    "    i=i+1\n",
    "    print(f' Item {i} = {x} : R$ {Feira[x]:,}')\n",
    "print(f'Total do carrinho = R$ {sum(Feira.values()):,.2f}')"
   ]
  },
  {
   "cell_type": "markdown",
   "id": "7e5a114e",
   "metadata": {},
   "source": [
    "### Estruturas de Decisão\n",
    "\n",
    "1 - Faça um programa que leia 2 notas de um aluno, calcule a média e imprima aprovado ou reprovado (para ser aprovado a média deve ser no mínimo 6)"
   ]
  },
  {
   "cell_type": "code",
   "execution_count": 33,
   "id": "237af4a3",
   "metadata": {},
   "outputs": [
    {
     "name": "stdout",
     "output_type": "stream",
     "text": [
      "Insira 2 nota e descubra se foi aprovado\n",
      "Entre com a primeira nota: 5\n",
      "Entre com a segunda nota: 8\n",
      "Nota 6.5: Aprovado\n"
     ]
    }
   ],
   "source": [
    "print(\"Insira 2 nota e descubra se foi aprovado\")\n",
    "nota1 = int(input(\"Entre com a primeira nota: \"))\n",
    "nota2 = int(input(\"Entre com a segunda nota: \"))\n",
    "\n",
    "media = (nota1+nota2)/2\n",
    "\n",
    "if media >= 6:\n",
    "    print(f\"Nota {media}: Aprovado\")\n",
    "else:\n",
    "    print(f\"Nota {media}: Reprovado\")"
   ]
  },
  {
   "cell_type": "markdown",
   "id": "424fb690",
   "metadata": {},
   "source": [
    "2 - Refaça o exercício 1, identificando o conceito aprovado (média superior a 6), exame (média entre 4 e 6) ou reprovado (média inferior a 4)"
   ]
  },
  {
   "cell_type": "code",
   "execution_count": 43,
   "id": "3944de01",
   "metadata": {},
   "outputs": [
    {
     "name": "stdout",
     "output_type": "stream",
     "text": [
      "Insira 2 nota e descubra se foi aprovado\n",
      "Entre com a primeira nota: 9\n",
      "Entre com a segunda nota: 4\n",
      "Nota 6.5: Aprovado\n"
     ]
    }
   ],
   "source": [
    "print(\"Insira 2 nota e descubra se foi aprovado\")\n",
    "nota1 = int(input(\"Entre com a primeira nota: \"))\n",
    "nota2 = int(input(\"Entre com a segunda nota: \"))\n",
    "\n",
    "media = (nota1+nota2)/2\n",
    "\n",
    "if media > 6:\n",
    "    print(f\"Nota {media}: Aprovado\")\n",
    "elif media < 4:\n",
    "    print(f\"Nota {media}: Reprovado\")\n",
    "else:\n",
    "    print(f\"Nota {media}: Exame\")"
   ]
  },
  {
   "cell_type": "markdown",
   "id": "1ee6c815",
   "metadata": {},
   "source": [
    "### Estruturas de Repetição\n",
    "\n",
    "1 - Escreva um programa para encontrar a soma S = 3 + 6 + 9 + ... + 333"
   ]
  },
  {
   "cell_type": "code",
   "execution_count": 44,
   "id": "e326e8c1",
   "metadata": {},
   "outputs": [
    {
     "name": "stdout",
     "output_type": "stream",
     "text": [
      "3\n",
      "6\n",
      "9\n",
      "12\n",
      "15\n",
      "18\n",
      "21\n",
      "24\n",
      "27\n",
      "30\n",
      "33\n",
      "36\n",
      "39\n",
      "42\n",
      "45\n",
      "48\n",
      "51\n",
      "54\n",
      "57\n",
      "60\n",
      "63\n",
      "66\n",
      "69\n",
      "72\n",
      "75\n",
      "78\n",
      "81\n",
      "84\n",
      "87\n",
      "90\n",
      "93\n",
      "96\n",
      "99\n",
      "102\n",
      "105\n",
      "108\n",
      "111\n",
      "114\n",
      "117\n",
      "120\n",
      "123\n",
      "126\n",
      "129\n",
      "132\n",
      "135\n",
      "138\n",
      "141\n",
      "144\n",
      "147\n",
      "150\n",
      "153\n",
      "156\n",
      "159\n",
      "162\n",
      "165\n",
      "168\n",
      "171\n",
      "174\n",
      "177\n",
      "180\n",
      "183\n",
      "186\n",
      "189\n",
      "192\n",
      "195\n",
      "198\n",
      "201\n",
      "204\n",
      "207\n",
      "210\n",
      "213\n",
      "216\n",
      "219\n",
      "222\n",
      "225\n",
      "228\n",
      "231\n",
      "234\n",
      "237\n",
      "240\n",
      "243\n",
      "246\n",
      "249\n",
      "252\n",
      "255\n",
      "258\n",
      "261\n",
      "264\n",
      "267\n",
      "270\n",
      "273\n",
      "276\n",
      "279\n",
      "282\n",
      "285\n",
      "288\n",
      "291\n",
      "294\n",
      "297\n",
      "300\n",
      "303\n",
      "306\n",
      "309\n",
      "312\n",
      "315\n",
      "318\n",
      "321\n",
      "324\n",
      "327\n",
      "330\n",
      "333\n",
      "Soma = 18648\n"
     ]
    }
   ],
   "source": [
    "S=0\n",
    "for x in range(3,334,3):\n",
    "    S=S+x\n",
    "    print(x)\n",
    "print(f'Soma = {S}')"
   ]
  },
  {
   "cell_type": "markdown",
   "id": "fb681b51",
   "metadata": {},
   "source": [
    "2 - Escreva um programa que leia 10 notas e informe a média dos alunos."
   ]
  },
  {
   "cell_type": "code",
   "execution_count": 45,
   "id": "98472f38",
   "metadata": {},
   "outputs": [
    {
     "name": "stdout",
     "output_type": "stream",
     "text": [
      "Entre com 1ª a nota: 5\n",
      "Entre com 2ª a nota: 3\n",
      "Entre com 3ª a nota: 6\n",
      "Entre com 4ª a nota: 9\n",
      "Entre com 5ª a nota: 4\n",
      "Entre com 6ª a nota: 5\n",
      "Entre com 7ª a nota: 6\n",
      "Entre com 8ª a nota: 7\n",
      "Entre com 9ª a nota: 3\n",
      "Entre com 10ª a nota: 5\n",
      "A média das notas dos alunos é = 5.3\n"
     ]
    }
   ],
   "source": [
    "Notas = []\n",
    "\n",
    "I = 0\n",
    "while I < 10:\n",
    "    I = I + 1\n",
    "    Nota = float(input(f\"Entre com {I}ª a nota: \"))\n",
    "    Notas.append(Nota)\n",
    "    \n",
    "media = sum(Notas)/len(Notas)\n",
    "print(f'A média das notas dos alunos é = {media}') "
   ]
  },
  {
   "cell_type": "markdown",
   "id": "8c064f9c",
   "metadata": {},
   "source": [
    "3 - Escreva um programa que leia um número de 1 a 10, e mostre a tabuada desse número."
   ]
  },
  {
   "cell_type": "code",
   "execution_count": 46,
   "id": "dcd3f336",
   "metadata": {},
   "outputs": [
    {
     "name": "stdout",
     "output_type": "stream",
     "text": [
      "Digite o numero de 1 a 10 para receber a tabuada: 5\n",
      "Tabuada do  5\n",
      "5 X 1 = 5\n",
      "5 X 2 = 10\n",
      "5 X 3 = 15\n",
      "5 X 4 = 20\n",
      "5 X 5 = 25\n",
      "5 X 6 = 30\n",
      "5 X 7 = 35\n",
      "5 X 8 = 40\n",
      "5 X 9 = 45\n",
      "5 X 10 = 50\n"
     ]
    }
   ],
   "source": [
    "num = int(input(\"Digite o numero de 1 a 10 para receber a tabuada: \"))\n",
    "print(\"Tabuada do \", num)\n",
    "\n",
    "for x in range(1,11):\n",
    "    print(f\"{num} X {x} = {num*x}\")"
   ]
  },
  {
   "cell_type": "markdown",
   "id": "03a86ac2",
   "metadata": {},
   "source": [
    "### Funções\n",
    "\n",
    "1 - Crie uma função para desenhar uma linha, usando o caractere '__'. O tamanho da linha deve ser definido na chamada da função."
   ]
  },
  {
   "cell_type": "code",
   "execution_count": 47,
   "id": "2934d8a8",
   "metadata": {},
   "outputs": [
    {
     "name": "stdout",
     "output_type": "stream",
     "text": [
      "Digite o Tamanho da linha: 5\n",
      "_____\n",
      "_____ \n"
     ]
    }
   ],
   "source": [
    "# Metodo simples\n",
    "def line(x):\n",
    "    print('_'*x)\n",
    "\n",
    "# Usando estrutura de repetição    \n",
    "def linha(N):\n",
    "    for i in range(N):\n",
    "        print(end='_')\n",
    "    print(\" \")\n",
    "\n",
    "    \n",
    "L = int(input(\"Digite o Tamanho da linha: \"))\n",
    "line(L)    \n",
    "linha(L)"
   ]
  },
  {
   "cell_type": "markdown",
   "id": "db42e8a2",
   "metadata": {},
   "source": [
    "2 - Crie uma função que receba como parâmetro uma lista com valores de qua lquer tipo . A função deve imprim ir todos os elementos da lista numerando os"
   ]
  },
  {
   "cell_type": "code",
   "execution_count": 48,
   "id": "50fb7fba",
   "metadata": {},
   "outputs": [
    {
     "name": "stdout",
     "output_type": "stream",
     "text": [
      "1 ) A\n",
      "2 ) B\n",
      "3 ) C\n",
      "4 ) D\n",
      "5 ) E\n"
     ]
    }
   ],
   "source": [
    "def imprime_lista(L):\n",
    "    contador=0\n",
    "    for valor in L:\n",
    "            contador = contador + 1\n",
    "            print(contador,')',valor)\n",
    "            \n",
    "lista = ['A', 'B','C','D','E']\n",
    "imprime_lista(lista)"
   ]
  },
  {
   "cell_type": "markdown",
   "id": "2d80d020",
   "metadata": {},
   "source": [
    "3 - Crie uma função que receba como parâmetro uma lista com valores numéricos e retorne a média desses valores."
   ]
  },
  {
   "cell_type": "code",
   "execution_count": 49,
   "id": "df9fe12e",
   "metadata": {},
   "outputs": [
    {
     "name": "stdout",
     "output_type": "stream",
     "text": [
      "A media dos valores = 3.0\n"
     ]
    }
   ],
   "source": [
    "def media_lista(L):\n",
    "    somador=0\n",
    "    for valor in L:\n",
    "            somador = somador + valor\n",
    "    return somador/len(L)\n",
    "\n",
    "\n",
    "lista2 = [1,2,3,4,5]\n",
    "print(f'A media dos valores = {media_lista(lista2)}')"
   ]
  },
  {
   "cell_type": "code",
   "execution_count": 50,
   "id": "7df90e7d",
   "metadata": {},
   "outputs": [
    {
     "name": "stdout",
     "output_type": "stream",
     "text": [
      " Item 1 = Abacate : R$ 1.99\n",
      " Item 2 = Manga : R$ 2.29\n",
      " Item 3 = Coco : R$ 5.25\n",
      "Total do carrinho = R$ 9.53\n"
     ]
    }
   ],
   "source": []
  },
  {
   "cell_type": "code",
   "execution_count": null,
   "id": "87f2a835",
   "metadata": {},
   "outputs": [],
   "source": []
  }
 ],
 "metadata": {
  "kernelspec": {
   "display_name": "Python 3",
   "language": "python",
   "name": "python3"
  },
  "language_info": {
   "codemirror_mode": {
    "name": "ipython",
    "version": 3
   },
   "file_extension": ".py",
   "mimetype": "text/x-python",
   "name": "python",
   "nbconvert_exporter": "python",
   "pygments_lexer": "ipython3",
   "version": "3.7.6"
  }
 },
 "nbformat": 4,
 "nbformat_minor": 5
}
