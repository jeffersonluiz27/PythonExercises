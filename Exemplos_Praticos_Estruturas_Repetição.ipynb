{
 "cells": [
  {
   "cell_type": "markdown",
   "id": "878872f5",
   "metadata": {},
   "source": [
    "# Exemplos Práticos \n",
    "\n",
    "### While\n",
    "\n",
    "No laço w hile o trecho de código da repetição está associado a uma condição . Enquanto a condição tiver valor verdadeiro , o trecho é executado. Quando a condição passa a ter valor falso , a repetição termina."
   ]
  },
  {
   "cell_type": "code",
   "execution_count": 1,
   "id": "ca0cc9e3",
   "metadata": {},
   "outputs": [
    {
     "name": "stdout",
     "output_type": "stream",
     "text": [
      "Degite a senha: 2543\n",
      "Senha incorreta. Tente novamente!\n",
      "Degite a senha: 12345\n",
      "Senha incorreta. Tente novamente!\n",
      "Degite a senha: 54321\n",
      "Acesso Liberado\n"
     ]
    }
   ],
   "source": [
    "senha = \"54321\"\n",
    "leitura = \"\"\n",
    "while (leitura != senha):\n",
    "    leitura = input(\"Degite a senha: \")\n",
    "    if leitura == senha:\n",
    "        print(\"Acesso Liberado\")\n",
    "    else:\n",
    "        print(\"Senha incorreta. Tente novamente!\")"
   ]
  },
  {
   "cell_type": "markdown",
   "id": "3dd8d0c5",
   "metadata": {},
   "source": [
    "Encontrar a soma de 5 valores."
   ]
  },
  {
   "cell_type": "code",
   "execution_count": 2,
   "id": "4c3b1025",
   "metadata": {},
   "outputs": [
    {
     "name": "stdout",
     "output_type": "stream",
     "text": [
      "Digite o 1º Valor: 2\n",
      "Digite o 2º Valor: 3\n",
      "Digite o 3º Valor: 5\n",
      "Digite o 4º Valor: 4\n",
      "Digite o 5º Valor: 6\n",
      "Soma = 20.0\n"
     ]
    }
   ],
   "source": [
    "contador = 0\n",
    "somador = 0\n",
    "\n",
    "while contador < 5:\n",
    "    contador = contador + 1\n",
    "    valor = float(input('Digite o '+str(contador)+'º Valor: '))\n",
    "    somador = somador + valor\n",
    "print(f'Soma = {somador}')"
   ]
  },
  {
   "cell_type": "markdown",
   "id": "da83b5dc",
   "metadata": {},
   "source": [
    "### For\n",
    "\n",
    "O laço for é a estrutura de repetição mais utilizada em Python . Pode ser utilizado com uma sequência numérica (gerada com o comando range ) ou associado a uma lista. O trecho de código da repetição é executado para cada valor da sequência numérica ou da lista.\n",
    "\n",
    "Exemplo: Encontrar a soma S = 1+4+7+10+13+16+19"
   ]
  },
  {
   "cell_type": "code",
   "execution_count": 4,
   "id": "bd0dff82",
   "metadata": {},
   "outputs": [
    {
     "name": "stdout",
     "output_type": "stream",
     "text": [
      "1\n",
      "4\n",
      "7\n",
      "10\n",
      "13\n",
      "16\n",
      "19\n",
      "Soma = 70\n"
     ]
    }
   ],
   "source": [
    "S=0\n",
    "for x in range(1,20,3):\n",
    "    S=S+x\n",
    "    print(x)\n",
    "print(f'Soma = {S}')"
   ]
  },
  {
   "cell_type": "markdown",
   "id": "4412818a",
   "metadata": {},
   "source": [
    "Exemplo: As notas de um aluno estão armazenadas em uma lista. Calcular a média dessas notas"
   ]
  },
  {
   "cell_type": "code",
   "execution_count": 8,
   "id": "cdeb1cc8",
   "metadata": {},
   "outputs": [
    {
     "name": "stdout",
     "output_type": "stream",
     "text": [
      "Média = 7.449999999999999\n"
     ]
    }
   ],
   "source": [
    "Lista_notas= [3.4,6.6,8,9,10,9.5,8.8,4.3]\n",
    "soma=0\n",
    "for nota in Lista_notas:\n",
    "    soma = soma+nota\n",
    "média = soma/len (Lista_notas)\n",
    "print(f'Média = {média}')"
   ]
  },
  {
   "cell_type": "code",
   "execution_count": null,
   "id": "6366b5d0",
   "metadata": {},
   "outputs": [],
   "source": []
  }
 ],
 "metadata": {
  "kernelspec": {
   "display_name": "Python 3",
   "language": "python",
   "name": "python3"
  },
  "language_info": {
   "codemirror_mode": {
    "name": "ipython",
    "version": 3
   },
   "file_extension": ".py",
   "mimetype": "text/x-python",
   "name": "python",
   "nbconvert_exporter": "python",
   "pygments_lexer": "ipython3",
   "version": "3.7.6"
  }
 },
 "nbformat": 4,
 "nbformat_minor": 5
}
