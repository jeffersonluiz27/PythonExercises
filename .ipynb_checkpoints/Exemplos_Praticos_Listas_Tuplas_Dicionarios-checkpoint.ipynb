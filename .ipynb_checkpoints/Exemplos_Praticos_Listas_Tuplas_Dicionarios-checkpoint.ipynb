{
 "cells": [
  {
   "cell_type": "markdown",
   "id": "baf4f493",
   "metadata": {},
   "source": [
    "# Exemplos Práticos \n",
    "\n",
    "### Listas\n",
    "\n",
    "Lista é um conjunto sequencial de valores, onde cada valor é identificado através de um índice. \n",
    "O primeiro valor tem índice 0.\n",
    "Uma lista pode ter valores de qualquer tipo, incluindo outras listas ."
   ]
  },
  {
   "cell_type": "code",
   "execution_count": 2,
   "id": "5cbbbf69",
   "metadata": {},
   "outputs": [
    {
     "name": "stdout",
     "output_type": "stream",
     "text": [
      "9.7\n",
      "[5, 6, 3]\n",
      "6\n",
      "[3, 'abacate', 9.7, 'morango', 'Python', (3, 'j')]\n"
     ]
    }
   ],
   "source": [
    "lista1 = [3, 'abacate', 9.7, [5,6,3], \"Python\", (3,'j')]\n",
    "\n",
    "# Mostra o item do indice indicado\n",
    "print(lista1[2])\n",
    "print(lista1[3])\n",
    "print(lista1[3][1])\n",
    "\n",
    "# Subistitui um elemendo no indice indicado\n",
    "lista1[3] = 'morango'\n",
    "print(lista1)"
   ]
  },
  {
   "cell_type": "code",
   "execution_count": 19,
   "id": "d30d7dbc",
   "metadata": {},
   "outputs": [
    {
     "name": "stdout",
     "output_type": "stream",
     "text": [
      "[10, 20, 30, 40, 50, 60, 70, 80, 90, 100]\n"
     ]
    }
   ],
   "source": [
    "lista2 = [10, 20, 30, 40, 50, 60, 70, 80, 90, 100]\n",
    "print(lista2)"
   ]
  },
  {
   "cell_type": "code",
   "execution_count": 20,
   "id": "5417b915",
   "metadata": {},
   "outputs": [
    {
     "data": {
      "text/plain": [
       "10"
      ]
     },
     "execution_count": 20,
     "metadata": {},
     "output_type": "execute_result"
    }
   ],
   "source": [
    "# Tamanho da lista\n",
    "len(lista2)"
   ]
  },
  {
   "cell_type": "code",
   "execution_count": 21,
   "id": "7ad218a8",
   "metadata": {},
   "outputs": [
    {
     "data": {
      "text/plain": [
       "10"
      ]
     },
     "execution_count": 21,
     "metadata": {},
     "output_type": "execute_result"
    }
   ],
   "source": [
    "# Menor menor valor da lista\n",
    "min(lista2)"
   ]
  },
  {
   "cell_type": "code",
   "execution_count": 22,
   "id": "0f8f220a",
   "metadata": {},
   "outputs": [
    {
     "data": {
      "text/plain": [
       "100"
      ]
     },
     "execution_count": 22,
     "metadata": {},
     "output_type": "execute_result"
    }
   ],
   "source": [
    "# Maior valor da lista\n",
    "max(lista2)"
   ]
  },
  {
   "cell_type": "code",
   "execution_count": 23,
   "id": "f9ad918b",
   "metadata": {},
   "outputs": [
    {
     "data": {
      "text/plain": [
       "550"
      ]
     },
     "execution_count": 23,
     "metadata": {},
     "output_type": "execute_result"
    }
   ],
   "source": [
    "# Retorna soma dos elementos da lista\n",
    "sum(lista2)"
   ]
  },
  {
   "cell_type": "code",
   "execution_count": 24,
   "id": "7534fc47",
   "metadata": {},
   "outputs": [
    {
     "name": "stdout",
     "output_type": "stream",
     "text": [
      "[10, 20, 30, 40, 50, 60, 70, 80, 90, 100, 200]\n"
     ]
    }
   ],
   "source": [
    "# Adiciona um novo valor na no final da lista\n",
    "lista2.append(200)\n",
    "print(lista2)"
   ]
  },
  {
   "cell_type": "code",
   "execution_count": 25,
   "id": "741cf736",
   "metadata": {},
   "outputs": [
    {
     "name": "stdout",
     "output_type": "stream",
     "text": [
      "[10, 20, 30, 40, 50, 60, 70, 80, 90, 100, 200, 500, 400, 300]\n"
     ]
    }
   ],
   "source": [
    "# Insere uma lista no final de outra lista\n",
    "lista2.extend([500, 400, 300])\n",
    "print(lista2)"
   ]
  },
  {
   "cell_type": "code",
   "execution_count": 26,
   "id": "04229b37",
   "metadata": {},
   "outputs": [
    {
     "name": "stdout",
     "output_type": "stream",
     "text": [
      "[10, 30, 40, 50, 60, 70, 80, 90, 100, 200, 500, 400, 300]\n"
     ]
    }
   ],
   "source": [
    "# Remove um elemento da lista, dado seu índice\n",
    "del lista2[1]\n",
    "print(lista2)"
   ]
  },
  {
   "cell_type": "code",
   "execution_count": 27,
   "id": "32e45f90",
   "metadata": {},
   "outputs": [
    {
     "data": {
      "text/plain": [
       "True"
      ]
     },
     "execution_count": 27,
     "metadata": {},
     "output_type": "execute_result"
    }
   ],
   "source": [
    "# Verifica se um valor pertence à lista\n",
    "50 in lista2"
   ]
  },
  {
   "cell_type": "code",
   "execution_count": 28,
   "id": "5cc20610",
   "metadata": {},
   "outputs": [
    {
     "name": "stdout",
     "output_type": "stream",
     "text": [
      "[10, 30, 40, 50, 60, 70, 80, 90, 100, 200, 300, 400, 500]\n"
     ]
    }
   ],
   "source": [
    "# Ordena em ordem crescente\n",
    "lista2.sort()\n",
    "print(lista2)"
   ]
  },
  {
   "cell_type": "code",
   "execution_count": 29,
   "id": "2c2e9053",
   "metadata": {},
   "outputs": [
    {
     "name": "stdout",
     "output_type": "stream",
     "text": [
      "[500, 400, 300, 200, 100, 90, 80, 70, 60, 50, 40, 30, 10]\n"
     ]
    }
   ],
   "source": [
    "# Inverte os elementos de uma lista\n",
    "lista2.reverse()\n",
    "print(lista2)"
   ]
  },
  {
   "cell_type": "markdown",
   "id": "53c21747",
   "metadata": {},
   "source": [
    "### Tupla\n",
    "\n",
    "Tupla, assim como a Lista é um conjunto sequencial de valores, onde cada valor é identificado através de um índice. \n",
    "A principal diferença entre elas é que as tuplas são imutáveis, ou seja, seuselementos não podem ser alterados.\n",
    "Dentre as utilidades das tuplas, destacam se as operações de empacotamento e desempacotamento de valores."
   ]
  },
  {
   "cell_type": "code",
   "execution_count": 30,
   "id": "78e3b61e",
   "metadata": {},
   "outputs": [
    {
     "name": "stdout",
     "output_type": "stream",
     "text": [
      "A =  10  e D =  40\n",
      "D + E =  90\n"
     ]
    }
   ],
   "source": [
    "Tupla = (10, 20, 30, 40, 50)\n",
    "a,b,c,d,e = Tupla\n",
    "print(\"A = \", a,\" e D = \",d)\n",
    "print(\"D + E = \", d+e)\n",
    "\n",
    "# Uma tupla é imutavel portanto não é possível fazer essa atribuição --> Tupla[2]=8"
   ]
  },
  {
   "cell_type": "markdown",
   "id": "414b8025",
   "metadata": {},
   "source": [
    "### Dicionários \n",
    "\n",
    "Dicionário é um conjunto de valores, onde cada valor é associado a uma chave de acesso."
   ]
  },
  {
   "cell_type": "code",
   "execution_count": 31,
   "id": "044c62dc",
   "metadata": {},
   "outputs": [
    {
     "name": "stdout",
     "output_type": "stream",
     "text": [
      "{'arroz': 17.3, 'feijão': 12.5, 'carne': 23.9, 'alface': 3.4}\n"
     ]
    }
   ],
   "source": [
    "Nome_dicionario = {\n",
    "    \"arroz\" : 17.30,\n",
    "    \"feijão\" : 12.50,\n",
    "    \"carne\" : 23.90,\n",
    "    \"alface\" : 3.40\n",
    "    }\n",
    "\n",
    "print(Nome_dicionario)"
   ]
  },
  {
   "cell_type": "code",
   "execution_count": 32,
   "id": "426b9ad1",
   "metadata": {},
   "outputs": [
    {
     "name": "stdout",
     "output_type": "stream",
     "text": [
      "23.9\n"
     ]
    }
   ],
   "source": [
    "# Valor correspondente ao key\n",
    "print(Nome_dicionario[\"carne\"])"
   ]
  },
  {
   "cell_type": "code",
   "execution_count": 33,
   "id": "9ca5c272",
   "metadata": {},
   "outputs": [
    {
     "name": "stdout",
     "output_type": "stream",
     "text": [
      "{'arroz': 17.3, 'carne': 23.9, 'alface': 3.4}\n"
     ]
    }
   ],
   "source": [
    "# Exclui um item in-formando a chave\n",
    "del Nome_dicionario[\"feijão\"]\n",
    "print(Nome_dicionario)"
   ]
  },
  {
   "cell_type": "code",
   "execution_count": 34,
   "id": "275b2585",
   "metadata": {},
   "outputs": [
    {
     "data": {
      "text/plain": [
       "False"
      ]
     },
     "execution_count": 34,
     "metadata": {},
     "output_type": "execute_result"
    }
   ],
   "source": [
    "# Verificar se a chave existe no dicionário\n",
    "\"batata\" in Nome_dicionario"
   ]
  },
  {
   "cell_type": "code",
   "execution_count": 35,
   "id": "c304f9ca",
   "metadata": {},
   "outputs": [
    {
     "data": {
      "text/plain": [
       "True"
      ]
     },
     "execution_count": 35,
     "metadata": {},
     "output_type": "execute_result"
    }
   ],
   "source": [
    "# Verificar se a chave existe no dicionário\n",
    "\"alface\" in Nome_dicionario"
   ]
  },
  {
   "cell_type": "code",
   "execution_count": 36,
   "id": "14b99cc9",
   "metadata": {},
   "outputs": [
    {
     "data": {
      "text/plain": [
       "dict_keys(['arroz', 'carne', 'alface'])"
      ]
     },
     "execution_count": 36,
     "metadata": {},
     "output_type": "execute_result"
    }
   ],
   "source": [
    "# Obtém as chaves de um dicionário\n",
    "Nome_dicionario.keys()"
   ]
  },
  {
   "cell_type": "code",
   "execution_count": 37,
   "id": "d0033968",
   "metadata": {},
   "outputs": [
    {
     "data": {
      "text/plain": [
       "dict_values([17.3, 23.9, 3.4])"
      ]
     },
     "execution_count": 37,
     "metadata": {},
     "output_type": "execute_result"
    }
   ],
   "source": [
    "# Obtém os valores de um dicionário\n",
    "Nome_dicionario.values()"
   ]
  },
  {
   "cell_type": "code",
   "execution_count": null,
   "id": "ecc111be",
   "metadata": {},
   "outputs": [],
   "source": []
  }
 ],
 "metadata": {
  "kernelspec": {
   "display_name": "Python 3",
   "language": "python",
   "name": "python3"
  },
  "language_info": {
   "codemirror_mode": {
    "name": "ipython",
    "version": 3
   },
   "file_extension": ".py",
   "mimetype": "text/x-python",
   "name": "python",
   "nbconvert_exporter": "python",
   "pygments_lexer": "ipython3",
   "version": "3.7.6"
  }
 },
 "nbformat": 4,
 "nbformat_minor": 5
}
