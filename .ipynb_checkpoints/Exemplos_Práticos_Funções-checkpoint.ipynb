{
 "cells": [
  {
   "cell_type": "markdown",
   "id": "c6398f08",
   "metadata": {},
   "source": [
    "# Exemplos Práticos \n",
    "\n",
    "### Funções\n",
    "\n",
    "Funções são pequenos trechos de código reutilizáveis. Elas permitem dar um nome a um bloco de\n",
    "comandos e executar ess e bloco, a partir de qualquer lugar do programa"
   ]
  },
  {
   "cell_type": "code",
   "execution_count": 1,
   "id": "72ff5fac",
   "metadata": {},
   "outputs": [
    {
     "name": "stdout",
     "output_type": "stream",
     "text": [
      "7\n"
     ]
    }
   ],
   "source": [
    "# Exemplo: Função para imprimir o maior entre 2 valores\n",
    "\n",
    "def maior (x,y):\n",
    "    if x>y:\n",
    "        print(x)\n",
    "    else:\n",
    "        print(y)\n",
    "        \n",
    "maior(4, 7)"
   ]
  },
  {
   "cell_type": "code",
   "execution_count": 2,
   "id": "9b50dd67",
   "metadata": {},
   "outputs": [
    {
     "name": "stdout",
     "output_type": "stream",
     "text": [
      "Total soma =  8\n",
      "Total principal =  10\n"
     ]
    }
   ],
   "source": [
    "# Escopo das variáveis\n",
    "def soma (x,y):\n",
    "    total = x+y\n",
    "    print (\"Total soma = \",total)\n",
    "\n",
    "total = 10\n",
    "soma(3,5)\n",
    "print(\"Total principal = \",total)"
   ]
  },
  {
   "cell_type": "code",
   "execution_count": 3,
   "id": "5d621db8",
   "metadata": {},
   "outputs": [
    {
     "name": "stdout",
     "output_type": "stream",
     "text": [
      "soma =  8\n"
     ]
    }
   ],
   "source": [
    "# Retorno de Valores\n",
    "def soma (x,y):\n",
    "    total = x+y\n",
    "    return total\n",
    "\n",
    "s = soma(3,5)\n",
    "print(\"soma = \",s)"
   ]
  },
  {
   "cell_type": "code",
   "execution_count": 5,
   "id": "6fe2cb98",
   "metadata": {},
   "outputs": [
    {
     "data": {
      "text/plain": [
       "50.0"
      ]
     },
     "execution_count": 5,
     "metadata": {},
     "output_type": "execute_result"
    }
   ],
   "source": [
    "# Valor Padrão\n",
    "\n",
    "def calcula_juros (valor, taxa=10):\n",
    "    juros = valor*taxa/100\n",
    "    return juros\n",
    "\n",
    "calcula_juros(500)"
   ]
  },
  {
   "cell_type": "code",
   "execution_count": null,
   "id": "b5f11aa6",
   "metadata": {},
   "outputs": [],
   "source": []
  }
 ],
 "metadata": {
  "kernelspec": {
   "display_name": "Python 3",
   "language": "python",
   "name": "python3"
  },
  "language_info": {
   "codemirror_mode": {
    "name": "ipython",
    "version": 3
   },
   "file_extension": ".py",
   "mimetype": "text/x-python",
   "name": "python",
   "nbconvert_exporter": "python",
   "pygments_lexer": "ipython3",
   "version": "3.7.6"
  }
 },
 "nbformat": 4,
 "nbformat_minor": 5
}
