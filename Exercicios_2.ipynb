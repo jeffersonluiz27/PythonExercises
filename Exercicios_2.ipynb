{
 "cells": [
  {
   "cell_type": "markdown",
   "id": "3b9c5915",
   "metadata": {},
   "source": [
    "# Exercícios \n",
    "\n",
    "### Estruturas de decisão e Estruturas de Repetição\n",
    "\n",
    "1 - Criar um programa que recebe nomes em uma lista até o usuarios digitar 0 e imprimir Estruturas de repetição."
   ]
  },
  {
   "cell_type": "code",
   "execution_count": 3,
   "id": "1c5e52b1",
   "metadata": {},
   "outputs": [
    {
     "name": "stdout",
     "output_type": "stream",
     "text": [
      "Digite um nome ou 0 para sair: Jeff\n",
      "Digite um nome ou 0 para sair: Luiz\n",
      "Digite um nome ou 0 para sair: Goo\n",
      "Digite um nome ou 0 para sair: 0\n",
      "\n",
      "Lista usando FOR\n",
      "\n",
      "Jeff\n",
      "Luiz\n",
      "Goo\n",
      "\n",
      "Lista usando WHILE\n",
      "\n",
      "Jeff\n",
      "Luiz\n",
      "Goo\n"
     ]
    }
   ],
   "source": [
    "nomes=[]\n",
    "#Recebe os nomes até o usuario digitar 0\n",
    "while True:\n",
    "    nome=input(\"Digite um nome ou 0 para sair: \")\n",
    "    if nome == \"0\":\n",
    "        break\n",
    "    nomes.append(nome)\n",
    "\n",
    "# Imprime usando FOR    \n",
    "print(\"\\nLista usando FOR\\n\")\n",
    "for i in nomes:\n",
    "    print(i)\n",
    "    \n",
    "# Imprime usando WHILE   \n",
    "print(\"\\nLista usando WHILE\\n\")\n",
    "i=0\n",
    "while i < len(nomes):\n",
    "    print(nomes[i])\n",
    "    i+=1"
   ]
  },
  {
   "cell_type": "code",
   "execution_count": null,
   "id": "01ff8647",
   "metadata": {},
   "outputs": [],
   "source": [
    "2 - Criar um programa que pesquisa em uma lista um nome digitado pelo usuario e informa se achou ou não"
   ]
  },
  {
   "cell_type": "code",
   "execution_count": 8,
   "id": "f9df1e6b",
   "metadata": {},
   "outputs": [
    {
     "name": "stdout",
     "output_type": "stream",
     "text": [
      "Entre com nome para pesquisar: Antonio\n",
      "Existe\n",
      "Achei\n"
     ]
    }
   ],
   "source": [
    "nomes2=[\"Antonio\",\"Julio\",\"Henrique\",\"Sabrina\"]\n",
    "\n",
    "# Pesquisa usando WHILE\n",
    "pesquisa = input(\"Entre com nome para pesquisar: \")\n",
    "achou = False\n",
    "num = 0\n",
    "while num < len(nomes2):\n",
    "    if pesquisa == nomes2[num]:\n",
    "        achou=True\n",
    "        break\n",
    "    num+=1\n",
    "if achou == True:\n",
    "    print(\"Existe\")\n",
    "else:\n",
    "    print(\"Não encontrado\")   \n",
    "\n",
    "# Pesquisa usando FOR     \n",
    "for a in nomes2:\n",
    "    if pesquisa == a:\n",
    "        print(\"Achei\")\n",
    "        break\n",
    "else:\n",
    "    print(\"Não achei\")\n",
    "    "
   ]
  },
  {
   "cell_type": "markdown",
   "id": "e5e4eb22",
   "metadata": {},
   "source": [
    "### Filas\n",
    "\n",
    "##### (First In First Out) FIFO - Fila\n",
    "\n",
    "1 - Criar um progarama que adiciona uma passageiro no final da fila e retina do inicio"
   ]
  },
  {
   "cell_type": "code",
   "execution_count": 14,
   "id": "3f59bd7d",
   "metadata": {},
   "outputs": [
    {
     "name": "stdout",
     "output_type": "stream",
     "text": [
      "Tem 6 passageiros na fila : \n",
      "E eles são:  ['Jose', 'Luiz', 'Ana', 'Sandra', 'Rosa', 'Roberto']\n",
      "Digite 1 para inclur\n",
      "Digite 2 para retirar\n",
      "Digite 0 para sair:\n",
      "1\n",
      "Digite o nome da pessoa que entrou na fila: Julio\n",
      "Tem 7 passageiros na fila : \n",
      "E eles são:  ['Jose', 'Luiz', 'Ana', 'Sandra', 'Rosa', 'Roberto', 'Julio']\n",
      "Digite 1 para inclur\n",
      "Digite 2 para retirar\n",
      "Digite 0 para sair:\n",
      "2\n",
      "Tem 6 passageiros na fila : \n",
      "E eles são:  ['Luiz', 'Ana', 'Sandra', 'Rosa', 'Roberto', 'Julio']\n",
      "Digite 1 para inclur\n",
      "Digite 2 para retirar\n",
      "Digite 0 para sair:\n",
      "0\n"
     ]
    }
   ],
   "source": [
    "passageiros=[\"Jose\",\"Luiz\",\"Ana\",\"Sandra\",\"Rosa\",\"Roberto\"]\n",
    "ultimo=len(passageiros)\n",
    "\n",
    "while True:\n",
    "    print(\"Tem %d passageiros na fila :\" % ultimo,\"\\nE eles são: \", passageiros)\n",
    "    acao = int(input(\"Digite 1 para inclur\\nDigite 2 para retirar\\nDigite 0 para sair:\\n\"))\n",
    "    if acao == 1:\n",
    "        pessoa = input(\"Digite o nome da pessoa que entrou na fila: \")\n",
    "        passageiros.append(pessoa)\n",
    "        ultimo+=1\n",
    "    elif acao == 2:\n",
    "        if len(passageiros) > 0:\n",
    "            passageiros.pop(0)\n",
    "            ultimo-=1\n",
    "        else:\n",
    "            print(\"\\nFila Vazia!\\n\")\n",
    "    elif acao == 0:\n",
    "        break"
   ]
  },
  {
   "cell_type": "markdown",
   "id": "d6f915df",
   "metadata": {},
   "source": [
    "##### (Last In First Out) LIFO - Pilha\n",
    "2 - Criar um programa que adiciona panquacas no topo da pilha e retira do topo"
   ]
  },
  {
   "cell_type": "code",
   "execution_count": 15,
   "id": "916c879e",
   "metadata": {},
   "outputs": [
    {
     "name": "stdout",
     "output_type": "stream",
     "text": [
      "Tem 6 panquecas no prato : \n",
      "E elas são:  ['Panqueca1', 'Panqueca2', 'Panqueca3', 'Panqueca4', 'Panqueca5', 'Panqueca6']\n",
      "Digite 1 para inclur\n",
      "Digite 2 para retirar\n",
      "Digite 0 para sair:\n",
      "1\n",
      "Tem 7 panquecas no prato : \n",
      "E elas são:  ['Panqueca1', 'Panqueca2', 'Panqueca3', 'Panqueca4', 'Panqueca5', 'Panqueca6', 'Panqueca 7']\n",
      "Digite 1 para inclur\n",
      "Digite 2 para retirar\n",
      "Digite 0 para sair:\n",
      "2\n",
      "Tem 6 panquecas no prato : \n",
      "E elas são:  ['Panqueca1', 'Panqueca2', 'Panqueca3', 'Panqueca4', 'Panqueca5', 'Panqueca6']\n",
      "Digite 1 para inclur\n",
      "Digite 2 para retirar\n",
      "Digite 0 para sair:\n",
      "2\n",
      "Tem 5 panquecas no prato : \n",
      "E elas são:  ['Panqueca1', 'Panqueca2', 'Panqueca3', 'Panqueca4', 'Panqueca5']\n",
      "Digite 1 para inclur\n",
      "Digite 2 para retirar\n",
      "Digite 0 para sair:\n",
      "0\n"
     ]
    }
   ],
   "source": [
    "panquecas=[\"Panqueca1\",\"Panqueca2\",\"Panqueca3\",\"Panqueca4\",\"Panqueca5\",\"Panqueca6\"]\n",
    "ultima=len(panquecas)\n",
    "\n",
    "while True:\n",
    "    print(\"Tem %d panquecas no prato :\" % ultima,\"\\nE elas são: \", panquecas)\n",
    "    acao = int(input(\"Digite 1 para inclur\\nDigite 2 para retirar\\nDigite 0 para sair:\\n\"))\n",
    "    if acao == 1:\n",
    "        panquecas.append(\"Panqueca %d\" % (ultima+1))\n",
    "        ultima+=1\n",
    "    elif acao == 2:\n",
    "        if len(panquecas) > 0:\n",
    "            panquecas.pop(-1)\n",
    "            ultima-=1\n",
    "        else:\n",
    "            print(\"\\nNão tem mais panquecas\\n\")\n",
    "    elif acao == 0:\n",
    "        break"
   ]
  },
  {
   "cell_type": "code",
   "execution_count": null,
   "id": "f6e79d50",
   "metadata": {},
   "outputs": [],
   "source": []
  }
 ],
 "metadata": {
  "kernelspec": {
   "display_name": "Python 3",
   "language": "python",
   "name": "python3"
  }
 },
 "nbformat": 4,
 "nbformat_minor": 5
}
